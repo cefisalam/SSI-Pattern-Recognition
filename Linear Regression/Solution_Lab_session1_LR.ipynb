{
 "cells": [
  {
   "cell_type": "markdown",
   "metadata": {},
   "source": [
    "# Lab session 1 ---- Linear Regression"
   ]
  },
  {
   "cell_type": "markdown",
   "metadata": {},
   "source": [
    "Student: ASRAF ALI Abdul Salam Rasmi                                                                               \n",
    "Date: 24/03/2019"
   ]
  },
  {
   "cell_type": "markdown",
   "metadata": {},
   "source": [
    "## I. Introduction\n",
    "In this exercise, we will implement linear regression with one and multiple variables, as well as gradient descent."
   ]
  },
  {
   "cell_type": "markdown",
   "metadata": {},
   "source": [
    "## II. Linear regression with one variable\n",
    "Suppose you are the CEO of a restaurant franchise and are considering different cities for opening a new food truck. The chain already has trucks in various cities and you have data for profits and populations from the cities.\n",
    "You would like to use this data to help you select which city to expand to next. The file lab1data1.txt contains the dataset: the first column is the poplulation of a city and the second column is the profit of a food truck in that city. An negative value for profit indicates a loss."
   ]
  },
  {
   "cell_type": "markdown",
   "metadata": {},
   "source": [
    "### Solution Question 1"
   ]
  },
  {
   "cell_type": "code",
   "execution_count": 1,
   "metadata": {},
   "outputs": [],
   "source": [
    "# Import the necessary Libraries\n",
    "import numpy as np\n",
    "import matplotlib.pyplot as plt\n",
    "\n",
    "# Load the Data from .txt file\n",
    "Data = np.loadtxt('lab1data1.txt', delimiter=',')\n",
    "\n",
    "# Separate Input (x) and Output (y) data\n",
    "x=np.atleast_2d(Data[:,:-1])\n",
    "y=Data[:,-1]"
   ]
  },
  {
   "cell_type": "code",
   "execution_count": 2,
   "metadata": {},
   "outputs": [
    {
     "data": {
      "image/png": "[encoded data removed]",
      "text/plain": [
       "<Figure size 432x288 with 1 Axes>"
      ]
     },
     "metadata": {
      "needs_background": "light"
     },
     "output_type": "display_data"
    }
   ],
   "source": [
    "# Function to Plot the Data\n",
    "\n",
    "def plotData(x,y):\n",
    "    plt.plot(x,y,'bx')\n",
    "    plt.xlabel('Population of City in 10,000s')\n",
    "    plt.ylabel('Profit in $10,000s')\n",
    "    plt.show()\n",
    "\n",
    "plotData(x,y)"
   ]
  },
  {
   "cell_type": "markdown",
   "metadata": {},
   "source": [
    "### Solution Question 2"
   ]
  },
  {
   "cell_type": "code",
   "execution_count": 3,
   "metadata": {},
   "outputs": [],
   "source": [
    "# Function to perform Linear Regression (Method 1)\n",
    "\n",
    "def linearReg(x,y):\n",
    "    \n",
    "    # Calculate the Slope(m) and Intercept(b) from y = W1*x + W0\n",
    "    Length = len(x); # Size of the data\n",
    "    \n",
    "    # Slope W1 is calculated by W1 = x^*y^ - xy^/ (x^)^2 - (X^2)^\n",
    "    A = sum(x*y)-sum(x)*sum(y)\n",
    "    B = sum(x**2)-(sum(x))**2\n",
    "    W1 = (Length*A)/(Length*B)\n",
    "    \n",
    "    # Intercept is calculated by W0 = y - W1*x \n",
    "    W0 = np.mean(y)-W1*np.mean(x)\n",
    "    \n",
    "    W =  [W1,W0]\n",
    "    return W"
   ]
  },
  {
   "cell_type": "code",
   "execution_count": 4,
   "metadata": {},
   "outputs": [],
   "source": [
    "# Function to perform Linear Regression (Method 2)\n",
    "def linRegres(x,y):\n",
    "    \n",
    "    # Make x = [1 x] to take care of bias\n",
    "    bias = np.ones((x.shape[0],1))\n",
    "    Xstack = np.asmatrix(np.hstack((bias,x)))\n",
    "    \n",
    "    # Perform Regression using numpy built-in function\n",
    "    W2,_,_,_=np.linalg.lstsq(Xstack,y,rcond=0)\n",
    "    \n",
    "    return W2"
   ]
  },
  {
   "cell_type": "code",
   "execution_count": 5,
   "metadata": {},
   "outputs": [
    {
     "name": "stdout",
     "output_type": "stream",
     "text": [
      "[-3.89578088  1.19303364]\n"
     ]
    },
    {
     "data": {
      "image/png": "[encoded data removed]",
      "text/plain": [
       "<Figure size 432x288 with 1 Axes>"
      ]
     },
     "metadata": {
      "needs_background": "light"
     },
     "output_type": "display_data"
    }
   ],
   "source": [
    "# Plot data\n",
    "\n",
    "Wt = linearReg(x,y)\n",
    "[W1, W0] = Wt\n",
    "yReg = W1 * x + W0\n",
    "\n",
    "W2 = linRegres(x,y)\n",
    "yRegres = W2[1] * x + W2[0]\n",
    "\n",
    "# Print the Slope and Intercept\n",
    "print(W2)\n",
    "\n",
    "# Plot the best Fit\n",
    "plt.plot(x,y,'bx')\n",
    "plt.plot(x,yRegres, 'g')    \n",
    "plt.show()"
   ]
  },
  {
   "cell_type": "markdown",
   "metadata": {},
   "source": [
    "### Solution Question 3"
   ]
  },
  {
   "cell_type": "code",
   "execution_count": 6,
   "metadata": {},
   "outputs": [],
   "source": [
    "# Function to Predict the Future Values\n",
    "\n",
    "def predict(W,x):\n",
    "    x= np.vstack([x.flatten(),np.ones(len(x.flatten()))])\n",
    "    predict = np.dot(W,x)\n",
    "    return predict"
   ]
  },
  {
   "cell_type": "code",
   "execution_count": 7,
   "metadata": {},
   "outputs": [
    {
     "name": "stdout",
     "output_type": "stream",
     "text": [
      "The Predicted Profits are : [ 2798.36876352 44554.54631015]\n"
     ]
    }
   ],
   "source": [
    "# Predictions for New Values\n",
    "\n",
    "x_New = np.array([3.5,7.0])\n",
    "W = [W2[1],W2[0]]\n",
    "y_New = predict(W,x_New)\n",
    "print('The Predicted Profits are : {}'.format(y_New*10000))"
   ]
  },
  {
   "cell_type": "markdown",
   "metadata": {},
   "source": [
    "## III. Linear regression with multiple variables\n",
    "Suppose you are selling your house and you want to know what a good market price would be. One way to do this is to collect information on recent houses sold and make a model of housing prices.\n",
    "The file lab1data2.txt contains a training set of housing prices in a city. The first column is the size of the house (in square feet), the second column is the number of bedrooms and the third column is the price of the house."
   ]
  },
  {
   "cell_type": "markdown",
   "metadata": {},
   "source": [
    "### Solution Question 1"
   ]
  },
  {
   "cell_type": "code",
   "execution_count": 8,
   "metadata": {},
   "outputs": [
    {
     "name": "stdout",
     "output_type": "stream",
     "text": [
      "The parameters estimated are: [89597.9095428    139.21067402 -8738.01911233]\n"
     ]
    }
   ],
   "source": [
    "# Load the Data from .txt file\n",
    "Data1 = np.loadtxt('lab1data2.txt', delimiter=',')\n",
    "\n",
    "# Separate Input (x) and Output (y) data\n",
    "x1=np.atleast_2d(Data1[:,:-1])\n",
    "y1=Data1[:,-1]\n",
    "\n",
    "# Call the Regression function (The same fuction can be used for multiple feature inputs)\n",
    "w1 = linRegres(x1,y1)\n",
    "print('The parameters estimated are: {}'.format(w1))"
   ]
  },
  {
   "cell_type": "markdown",
   "metadata": {},
   "source": [
    "### Solution Question 2"
   ]
  },
  {
   "cell_type": "code",
   "execution_count": 9,
   "metadata": {},
   "outputs": [],
   "source": [
    "# Function to Normalize the Column Vectors\n",
    "\n",
    "def featureNormalize(x):\n",
    "    Norm = np.zeros_like(x)\n",
    "    Mu = np.mean(x)\n",
    "    Sigma = np.std(x)\n",
    "    Norm = (x - Mu) / Sigma\n",
    "    return Norm, Mu, Sigma"
   ]
  },
  {
   "cell_type": "code",
   "execution_count": 10,
   "metadata": {},
   "outputs": [],
   "source": [
    "# Normalizing the data (Data1)\n",
    "\n",
    "Data2 = np.zeros_like(Data1)\n",
    "Data2[:,0],Mu1,Sigma1 = featureNormalize(Data1[:,0])\n",
    "Data2[:,1],Mu2,Sigma2 = featureNormalize(Data1[:,1])\n",
    "Data2[:,2],Mu3,Sigma3 = featureNormalize(Data1[:,2])"
   ]
  },
  {
   "cell_type": "markdown",
   "metadata": {},
   "source": [
    "### Solution Question 3"
   ]
  },
  {
   "cell_type": "code",
   "execution_count": 11,
   "metadata": {
    "scrolled": true
   },
   "outputs": [
    {
     "name": "stdout",
     "output_type": "stream",
     "text": [
      "The parameters estimated are: [-9.71656032e-17  8.84765988e-01 -5.31788197e-02]\n"
     ]
    }
   ],
   "source": [
    "# Separate Input (x) and Output (y) data\n",
    "x2=np.atleast_2d(Data2[:,:-1])\n",
    "y2=Data2[:,-1]\n",
    "\n",
    "#Linear Regression on two variables after Normalization\n",
    "w2 = linRegres(x2,y2)\n",
    "print('The parameters estimated are: {}'.format(w2))"
   ]
  },
  {
   "cell_type": "markdown",
   "metadata": {},
   "source": [
    "### Solution Question 4"
   ]
  },
  {
   "cell_type": "code",
   "execution_count": 12,
   "metadata": {},
   "outputs": [],
   "source": [
    "# Function to Predict New Values\n",
    "def predictMultiple(w,x):\n",
    "    x = np.hstack([np.ones(1), x.flatten()])\n",
    "    pred = np.dot(w,x)\n",
    "    return pred"
   ]
  },
  {
   "cell_type": "code",
   "execution_count": 13,
   "metadata": {},
   "outputs": [
    {
     "name": "stdout",
     "output_type": "stream",
     "text": [
      "The Predicted Price is : 293081.4643348961\n"
     ]
    }
   ],
   "source": [
    "# Predictions (without Normalization)\n",
    "\n",
    "x_new = np.array([1650, 3])\n",
    "\n",
    "# Predict\n",
    "prediction1 = predictMultiple(w1,x_new)\n",
    "print('The Predicted Price is : {}'.format(prediction1))"
   ]
  },
  {
   "cell_type": "code",
   "execution_count": 14,
   "metadata": {},
   "outputs": [
    {
     "name": "stdout",
     "output_type": "stream",
     "text": [
      "The Predicted Price is : 293081.4643348961\n"
     ]
    }
   ],
   "source": [
    "# Predictions (with Normalization)\n",
    "\n",
    "# Normalize New inputs\n",
    "F1 = (x_new[0]-Mu1)/Sigma1\n",
    "F2 = (x_new[1]-Mu2)/Sigma2\n",
    "\n",
    "x_Norm = np.array([F1, F2])\n",
    "\n",
    "# Predict\n",
    "prediction2 = predictMultiple(w2,x_Norm)\n",
    "\n",
    "prediction2 = (prediction2*Sigma3)+Mu3\n",
    "print('The Predicted Price is : {}'.format(prediction2))"
   ]
  },
  {
   "cell_type": "markdown",
   "metadata": {},
   "source": [
    "### Answer for Question 3\n",
    "\n",
    "Both the Prediction outputs (with and without Normalization) are same; There is no considerable change in the result. Hence we cannot say whether it is better or not but in case of faster computation we can neglect normalization. \n"
   ]
  },
  {
   "cell_type": "markdown",
   "metadata": {},
   "source": [
    "## IV. Gradient descent\n",
    "We will now perform linear regression using gradient descent."
   ]
  },
  {
   "cell_type": "markdown",
   "metadata": {},
   "source": [
    "### Solution Question 1"
   ]
  },
  {
   "cell_type": "code",
   "execution_count": 15,
   "metadata": {},
   "outputs": [],
   "source": [
    "# Compute Cost Function\n",
    "\n",
    "def computeCost(x, y, w):\n",
    "    \n",
    "    # Size of data\n",
    "    N = y.size\n",
    "    temp = x.dot(w)\n",
    "    temp = (temp - y)\n",
    "    \n",
    "    # Cost Computation Formula\n",
    "    J = (1/(2*N)) * temp.T.dot(temp)\n",
    "    return J"
   ]
  },
  {
   "cell_type": "code",
   "execution_count": 16,
   "metadata": {},
   "outputs": [],
   "source": [
    "# Function to Normalize the data\n",
    "\n",
    "def feature_Normalize(x):\n",
    "    Mu = []\n",
    "    Sigma = []\n",
    "    x_Norm = x\n",
    "    Len = x.shape[1]\n",
    "\n",
    "    for i in range(Len):\n",
    "        M = np.mean(x[:, i])\n",
    "        S = np.std(x[:, i])\n",
    "        # Mean\n",
    "        Mu = np.append(Mu,M)\n",
    "        # Sigma\n",
    "        Sigma = np.append(Sigma,S)\n",
    "        # Norm\n",
    "        x_Norm[:, i] = (x_Norm[:, i] - M) / S\n",
    "    return x_Norm, Mu, Sigma"
   ]
  },
  {
   "cell_type": "markdown",
   "metadata": {},
   "source": [
    "### Solution Question 2"
   ]
  },
  {
   "cell_type": "code",
   "execution_count": 17,
   "metadata": {},
   "outputs": [],
   "source": [
    "# Function to perform Gradient Descent\n",
    "\n",
    "def gradientDescent(x, y, w, alpha, Iter):\n",
    "    N = y.size\n",
    "    J = np.zeros(shape=(Iter, 1))\n",
    "    \n",
    "    for i in range(Iter):\n",
    "        predictions = x.dot(w)\n",
    "        w_size = w.size\n",
    "        \n",
    "        for j in range(w_size):\n",
    "            temp = x[:, j]\n",
    "            temp.shape = (N, 1)\n",
    "            error = (predictions - y) * temp\n",
    "            \n",
    "            # Weight Update Formula\n",
    "            w[j][0] = w[j][0] - alpha * (1.0 / N) * error.sum()\n",
    "        \n",
    "        # Compute Cost\n",
    "        J[i, 0] = computeCost(x, y, w)\n",
    "    return w, J"
   ]
  },
  {
   "cell_type": "code",
   "execution_count": 18,
   "metadata": {},
   "outputs": [
    {
     "data": {
      "image/png": "[encoded data removed]",
      "text/plain": [
       "<Figure size 432x288 with 1 Axes>"
      ]
     },
     "metadata": {
      "needs_background": "light"
     },
     "output_type": "display_data"
    }
   ],
   "source": [
    "# Load the Data from .txt file\n",
    "Data = np.loadtxt('lab1data2.txt', delimiter=',')\n",
    "\n",
    "#Plot the data\n",
    "x=np.atleast_2d(Data[:,:-1])\n",
    "y=Data[:,-1]\n",
    "\n",
    "# Size of data\n",
    "m = y.size\n",
    "y.shape = (m, 1)\n",
    "\n",
    "# Normalize the data\n",
    "X, Mu, Sigma = feature_Normalize(x)\n",
    "\n",
    "# Make x = [1 x] to take care of bias\n",
    "\n",
    "Xstack = np.ones(shape=(m, 3))\n",
    "Xstack[:, 1:3] = X\n",
    "\n",
    "#Initialize Parameters\n",
    "Iter = 50\n",
    "alpha = 0.4\n",
    "w = np.zeros(shape=(3, 1))\n",
    "\n",
    "# Gradient Descent\n",
    "w, J = gradientDescent(Xstack, y, w, alpha, Iter)\n",
    "\n",
    "# Plot Cost Function vs Iterations\n",
    "plt.plot(np.arange(Iter), J)\n",
    "plt.xlabel('Iterations')\n",
    "plt.ylabel('Cost Function')\n",
    "plt.show()"
   ]
  },
  {
   "cell_type": "markdown",
   "metadata": {},
   "source": [
    "### Solution Question 3"
   ]
  },
  {
   "cell_type": "code",
   "execution_count": 19,
   "metadata": {},
   "outputs": [
    {
     "name": "stdout",
     "output_type": "stream",
     "text": [
      "Predicted price of a 1650 sq-ft, 3 bedroom house is: [293082.26208012]\n"
     ]
    }
   ],
   "source": [
    "# Prediction of new data\n",
    "\n",
    "Price = np.array([1.0,   ((1650.0 - Mu[0]) / Sigma[0]), ((3 - Mu[1]) / Sigma[1])]).dot(w)\n",
    "print('Predicted price of a 1650 sq-ft, 3 bedroom house is: {}' .format(Price))"
   ]
  },
  {
   "cell_type": "markdown",
   "metadata": {},
   "source": [
    "#### ##Note\n",
    "##### As we can see from the output of both Gradient Descent and Linear Regression the prediction is almost equal. Hence for the given data the best learning rate is alpha = 0.4."
   ]
  }
 ],
 "metadata": {
  "anaconda-cloud": {},
  "kernelspec": {
   "display_name": "Python 3",
   "language": "python",
   "name": "python3"
  },
  "language_info": {
   "codemirror_mode": {
    "name": "ipython",
    "version": 3
   },
   "file_extension": ".py",
   "mimetype": "text/x-python",
   "name": "python",
   "nbconvert_exporter": "python",
   "pygments_lexer": "ipython3",
   "version": "3.6.7"
  }
 },
 "nbformat": 4,
 "nbformat_minor": 1
}
