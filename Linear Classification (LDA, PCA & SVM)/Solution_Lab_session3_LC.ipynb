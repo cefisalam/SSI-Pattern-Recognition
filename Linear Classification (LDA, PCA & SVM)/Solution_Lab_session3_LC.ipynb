{
 "cells": [
  {
   "cell_type": "markdown",
   "metadata": {
    "collapsed": true
   },
   "source": [
    "# Lab session 3 ---- Linear Classification"
   ]
  },
  {
   "cell_type": "markdown",
   "metadata": {},
   "source": [
    "Student: ASRAF ALI Abdul Salam Rasmi                       \n",
    "Date: 19/05/2019"
   ]
  },
  {
   "cell_type": "markdown",
   "metadata": {},
   "source": [
    "## I. Introduction\n",
    "In this lab, we will implement linear discriminant analysis and logistic regression.\n",
    "We will try to recognize images.\n",
    "You shall submit a clearly written and commented report as well as your own code."
   ]
  },
  {
   "cell_type": "code",
   "execution_count": 1,
   "metadata": {},
   "outputs": [],
   "source": [
    "# Import Essential Libraries\n",
    "\n",
    "# To deal with Arrays\n",
    "import numpy as np\n",
    "\n",
    "# To Plot Graph and Show Figures\n",
    "import matplotlib.pyplot as plt\n",
    "import matplotlib.image as mpimg\n",
    "\n",
    "# To Supress Warnings (Optional)\n",
    "import warnings\n",
    "warnings.filterwarnings('ignore')\n",
    "\n",
    "# To Load MATLAB Files\n",
    "from scipy.io import loadmat\n",
    "\n",
    "# To Perform Optimization\n",
    "from scipy.optimize import minimize"
   ]
  },
  {
   "cell_type": "markdown",
   "metadata": {},
   "source": [
    "## II. Female or Male?\n",
    "The file heightWeightData.txt contains some data showing the height and weight of different people. The first column is the class label (1=male, 2=female), the second column is the height and the third is the weight."
   ]
  },
  {
   "cell_type": "markdown",
   "metadata": {},
   "source": [
    "## Question 1\n",
    "Extract the height/weight data corresponding to males. "
   ]
  },
  {
   "cell_type": "code",
   "execution_count": 2,
   "metadata": {},
   "outputs": [],
   "source": [
    "# To Plot Covariance Ellipse (Found on: http://www.nhsilbert.net/source/2014/06/bivariate-normal-ellipse-plotting-in-python/)\n",
    "\n",
    "def plot_cov_ellipse(cov, pos, volume=.5, ax=None, fc='none', ec=[0,0,0], a=1, lw=2):\n",
    "    \"\"\"\n",
    "    Plots an ellipse enclosing *volume* based on the specified covariance\n",
    "    matrix (*cov*) and location (*pos*). Additional keyword arguments are passed on to the \n",
    "    ellipse patch artist.\n",
    "\n",
    "    Parameters\n",
    "    ----------\n",
    "        cov : The 2x2 covariance matrix to base the ellipse on\n",
    "        pos : The location of the center of the ellipse. Expects a 2-element\n",
    "            sequence of [x0, y0].\n",
    "        volume : The volume inside the ellipse; defaults to 0.5\n",
    "        ax : The axis that the ellipse will be plotted on. Defaults to the \n",
    "            current axis.\n",
    "    \"\"\"\n",
    "    # Libraries to Plot Ellipse\n",
    "    from scipy.stats import chi2\n",
    "    from matplotlib.patches import Ellipse\n",
    "\n",
    "    def eigsorted(cov):\n",
    "        vals, vecs = np.linalg.eigh(cov)\n",
    "        order = vals.argsort()[::-1]\n",
    "        return vals[order], vecs[:,order]\n",
    "\n",
    "    if ax is None:\n",
    "        ax = plt.gca()\n",
    "\n",
    "    vals, vecs = eigsorted(cov)\n",
    "    theta = np.degrees(np.arctan2(*vecs[:,0][::-1]))\n",
    "\n",
    "    kwrg = {'facecolor':fc, 'edgecolor':ec, 'alpha':a, 'linewidth':lw}\n",
    "\n",
    "    # Width and height are \"full\" widths, not radius\n",
    "    width, height = 2 * np.sqrt(chi2.ppf(volume,2)) * np.sqrt(vals)\n",
    "    ellip = Ellipse(xy=pos, width=width, height=height, angle=theta, **kwrg)\n",
    "\n",
    "    ax.add_artist(ellip)"
   ]
  },
  {
   "cell_type": "code",
   "execution_count": 3,
   "metadata": {},
   "outputs": [],
   "source": [
    "# Read the Data\n",
    "data = np.loadtxt(\"heightWeightData.txt\", delimiter= \",\")\n",
    "X = data[:,1:3]\n",
    "y = data[:,0]\n",
    "\n",
    "# Extract Rows containing Data of Males (label = 1)\n",
    "labels = data[:,0]\n",
    "idx_male = (labels == 1)\n",
    "\n",
    "X_male = data[idx_male,1:3]\n",
    "\n",
    "# Mean of Male Heights and Weights\n",
    "mean_male = np.mean(X_male, 0)\n",
    "\n",
    "# Covariance of Male Height and Weight\n",
    "from numpy.matlib import repmat # Library to Replicate an Array into Matrix\n",
    "X_meanCentered = X_male - repmat(mean_male, np.size(X_male, 0), 1)\n",
    "cov_male = np.cov(X_male.T)"
   ]
  },
  {
   "cell_type": "code",
   "execution_count": 4,
   "metadata": {},
   "outputs": [
    {
     "data": {
      "image/png": "[encoded data removed]",
      "text/plain": [
       "<Figure size 432x288 with 1 Axes>"
      ]
     },
     "metadata": {
      "needs_background": "light"
     },
     "output_type": "display_data"
    }
   ],
   "source": [
    "# Visualizing Male Data\n",
    "gaussianSamples = np.random.multivariate_normal(mean_male, cov_male, 1000)\n",
    "\n",
    "pdata = plt.scatter(X_male[:,0], X_male[:,1], color = 'r', marker = '.')\n",
    "pdatagauss = plot_cov_ellipse(cov_male, mean_male)\n",
    "\n",
    "plt.xlabel('Height of males')\n",
    "plt.ylabel('Weight of males')\n",
    "plt.title('Gaussian fitted to Height and Weight of Males')\n",
    "\n",
    "plt.show()"
   ]
  },
  {
   "cell_type": "markdown",
   "metadata": {},
   "source": [
    "## Question 2 \n",
    "Standardize the data (i.e. make each feature have 0 mean and unit variance) and re-estimate the\n",
    "2d Gaussian."
   ]
  },
  {
   "cell_type": "code",
   "execution_count": 5,
   "metadata": {},
   "outputs": [],
   "source": [
    "# Normalization\n",
    "X_normalized = np.column_stack([X_meanCentered[:,0]*1./cov_male[0,0], X_meanCentered[:,1]*1./cov_male[1,1]]) \n",
    "mean_male_normalized = np.mean(X_normalized, 0)\n",
    "cov_male_normalized = np.cov(X_normalized.T)"
   ]
  },
  {
   "cell_type": "markdown",
   "metadata": {},
   "source": [
    "## Question 3\n",
    "data whitening or sphering"
   ]
  },
  {
   "cell_type": "code",
   "execution_count": 6,
   "metadata": {},
   "outputs": [],
   "source": [
    "# Data Whitening\n",
    "\n",
    "# Estimate Dominant Eigenvectors of Data\n",
    "cov_male_centered = np.cov(X_meanCentered.T)\n",
    "evals, evecs = np.linalg.eigh(cov_male_centered)\n",
    "order = evals.argsort()[::-1]\n",
    "evals = evals[order]\n",
    "evecs = evecs[:,order]\n",
    "\n",
    "# Project Data along the Dominant Eigenvectors \n",
    "X_whitened = np.dot(np.diag(1./evals), np.dot(evecs.T, X_meanCentered.T))\n",
    "X_whitened = X_whitened.T"
   ]
  },
  {
   "cell_type": "code",
   "execution_count": 7,
   "metadata": {},
   "outputs": [
    {
     "data": {
      "image/png": "[encoded data removed]",
      "text/plain": [
       "<Figure size 432x288 with 1 Axes>"
      ]
     },
     "metadata": {
      "needs_background": "light"
     },
     "output_type": "display_data"
    },
    {
     "name": "stdout",
     "output_type": "stream",
     "text": [
      "[[ 9.50724221e-04 -2.09612420e-18]\n",
      " [-2.09612420e-18  1.31396910e-01]]\n"
     ]
    }
   ],
   "source": [
    "# Visualizing Male Data after Normalization\n",
    "mean_male_whitened = np.mean(X_whitened, 0)\n",
    "cov_male_whitened = np.cov(X_whitened.T)\n",
    "\n",
    "plt.scatter(X_whitened[:,0], X_whitened[:,1], color = 'g', marker = '.')\n",
    "plot_cov_ellipse(cov_male_whitened, mean_male_whitened)\n",
    "\n",
    "plt.xlabel('Centered Height of males')\n",
    "plt.ylabel('Centered Weight of males')\n",
    "plt.title('Gaussian fitted to Whitened Height and Weight of Males')\n",
    "plt.xlim([-0.12, 0.12])\n",
    "plt.ylim([-1.5, 1.5])\n",
    "\n",
    "plt.show()\n",
    "\n",
    "print(cov_male_whitened)"
   ]
  },
  {
   "cell_type": "markdown",
   "metadata": {},
   "source": [
    "### We now want to use the height/weight features to classify each person as male or female.\n"
   ]
  },
  {
   "cell_type": "markdown",
   "metadata": {},
   "source": [
    "## Question 1\n",
    "Use LDA to perform this classification and compute the training error. Note that we will use all data as training set."
   ]
  },
  {
   "cell_type": "code",
   "execution_count": 8,
   "metadata": {},
   "outputs": [
    {
     "data": {
      "text/plain": [
       "LinearDiscriminantAnalysis(n_components=None, priors=None, shrinkage=None,\n",
       "              solver='svd', store_covariance=False, tol=0.0001)"
      ]
     },
     "execution_count": 8,
     "metadata": {},
     "output_type": "execute_result"
    }
   ],
   "source": [
    "# Library to Perform LDA\n",
    "from sklearn.discriminant_analysis import LinearDiscriminantAnalysis\n",
    "\n",
    "# Create a Model\n",
    "lda = LinearDiscriminantAnalysis()\n",
    "\n",
    "# Fit the Model for given Data\n",
    "lda.fit(X,y)"
   ]
  },
  {
   "cell_type": "code",
   "execution_count": 9,
   "metadata": {},
   "outputs": [
    {
     "name": "stdout",
     "output_type": "stream",
     "text": [
      "Training Accuracy: 88.09523809523809 %\n"
     ]
    }
   ],
   "source": [
    "# Calculate Training Accuracy\n",
    "print(\"Training Accuracy:\",(lda.score(X,y.ravel()))*100,\"%\")"
   ]
  },
  {
   "cell_type": "markdown",
   "metadata": {},
   "source": [
    "## Question 2\n",
    "We can also use PCA to project the data onto a 1d space. Compute the corresponding principal component and explain the difference with the decision boundary found by LDA?"
   ]
  },
  {
   "cell_type": "code",
   "execution_count": 10,
   "metadata": {},
   "outputs": [],
   "source": [
    "# Libraries to Perform PCA\n",
    "from sklearn.preprocessing import StandardScaler\n",
    "from sklearn.decomposition import PCA\n",
    "\n",
    "# Standardizing the Features\n",
    "X_std = StandardScaler().fit_transform(X)\n",
    "\n",
    "# Create a Model\n",
    "pca = PCA(n_components=1)\n",
    "\n",
    "# Fit the Model for given Data\n",
    "X_pca = pca.fit_transform(X_std)"
   ]
  },
  {
   "cell_type": "code",
   "execution_count": 11,
   "metadata": {},
   "outputs": [
    {
     "data": {
      "text/plain": [
       "LinearDiscriminantAnalysis(n_components=None, priors=None, shrinkage=None,\n",
       "              solver='svd', store_covariance=False, tol=0.0001)"
      ]
     },
     "execution_count": 11,
     "metadata": {},
     "output_type": "execute_result"
    }
   ],
   "source": [
    "# Create a Model\n",
    "lda1 = LinearDiscriminantAnalysis()\n",
    "\n",
    "# Fit the Model for Transformed Data\n",
    "lda1.fit(X_pca,y)"
   ]
  },
  {
   "cell_type": "code",
   "execution_count": 12,
   "metadata": {},
   "outputs": [
    {
     "name": "stdout",
     "output_type": "stream",
     "text": [
      "Training Accuracy: 88.57142857142857 %\n"
     ]
    }
   ],
   "source": [
    "# Calculate Training Accuracy for Transformed Data\n",
    "print(\"Training Accuracy:\",(lda1.score(X_pca,y.ravel()))*100,\"%\")"
   ]
  },
  {
   "cell_type": "markdown",
   "metadata": {},
   "source": [
    "##### The dimensionality reduction using PCA didnot affect the data accuracy much but will decrease the computational time to an extent."
   ]
  },
  {
   "cell_type": "markdown",
   "metadata": {},
   "source": [
    "## III. Digits recognition"
   ]
  },
  {
   "cell_type": "markdown",
   "metadata": {},
   "source": [
    "## Question 1\n",
    "### Data visualization"
   ]
  },
  {
   "cell_type": "code",
   "execution_count": 13,
   "metadata": {},
   "outputs": [
    {
     "data": {
      "text/plain": [
       "dict_keys(['__header__', '__version__', '__globals__', 'training', 'trainingLabels'])"
      ]
     },
     "execution_count": 13,
     "metadata": {},
     "output_type": "execute_result"
    }
   ],
   "source": [
    "# Load the Training Data\n",
    "data_train = loadmat('trainingData.mat')\n",
    "data_train.keys()"
   ]
  },
  {
   "cell_type": "code",
   "execution_count": 14,
   "metadata": {},
   "outputs": [
    {
     "name": "stdout",
     "output_type": "stream",
     "text": [
      "X: (8000, 784)\n",
      "y: (8000, 1)\n"
     ]
    }
   ],
   "source": [
    "# Split the Data and Labels\n",
    "y_train = data_train['trainingLabels']\n",
    "X_train = data_train['training']\n",
    "print('X: {}'.format(X_train.shape))\n",
    "print('y: {}'.format(y_train.shape))"
   ]
  },
  {
   "cell_type": "code",
   "execution_count": 15,
   "metadata": {},
   "outputs": [
    {
     "data": {
      "image/png": "[encoded data removed]",
      "text/plain": [
       "<Figure size 288x288 with 25 Axes>"
      ]
     },
     "metadata": {
      "needs_background": "light"
     },
     "output_type": "display_data"
    }
   ],
   "source": [
    "# Show some Digits from Training Data\n",
    "fig, axis = plt.subplots(5,5,figsize=(4,4))\n",
    "for i in range(5):\n",
    "    for j in range(5):\n",
    "        axis[i,j].imshow((X_train[np.random.randint(0,8000),:].reshape(28,28,order=\"F\")).T, cmap=\"hot\")\n",
    "        axis[i,j].axis(\"off\")"
   ]
  },
  {
   "cell_type": "code",
   "execution_count": 16,
   "metadata": {},
   "outputs": [
    {
     "data": {
      "text/plain": [
       "dict_keys(['__header__', '__version__', '__globals__', 'test', 'testLabels'])"
      ]
     },
     "execution_count": 16,
     "metadata": {},
     "output_type": "execute_result"
    }
   ],
   "source": [
    "# Load the Test Data\n",
    "data_test = loadmat('testData.mat')\n",
    "data_test.keys()"
   ]
  },
  {
   "cell_type": "code",
   "execution_count": 17,
   "metadata": {},
   "outputs": [
    {
     "name": "stdout",
     "output_type": "stream",
     "text": [
      "X: (2000, 784)\n",
      "y: (2000, 1)\n"
     ]
    }
   ],
   "source": [
    "# Split the Data and Labels\n",
    "y_test = data_test['testLabels']\n",
    "X_test = data_test['test']\n",
    "print('X: {}'.format(X_test.shape))\n",
    "print('y: {}'.format(y_test.shape))"
   ]
  },
  {
   "cell_type": "markdown",
   "metadata": {},
   "source": [
    "## Question 2\n",
    "### Dimension reduction (using PCA)"
   ]
  },
  {
   "cell_type": "code",
   "execution_count": 18,
   "metadata": {},
   "outputs": [],
   "source": [
    "# Standardizing the Features\n",
    "X_STD = np.r_[X_train,X_test] # Merge both Training and Test Data\n",
    "X_STD = StandardScaler().fit_transform(X_STD)"
   ]
  },
  {
   "cell_type": "code",
   "execution_count": 19,
   "metadata": {},
   "outputs": [],
   "source": [
    "# Create a Model\n",
    "pca = PCA(n_components=2) # Reduce the dimension of data, keeping only the first two principal components (d=2)\n",
    "\n",
    "# Transform the Data\n",
    "X_PCA = pca.fit_transform(X_STD)"
   ]
  },
  {
   "cell_type": "code",
   "execution_count": 20,
   "metadata": {},
   "outputs": [],
   "source": [
    "# Split the Training and Test Data\n",
    "X_PCA_train = X_PCA[0:X_train.shape[0],:]\n",
    "X_PCA_test = X_PCA[X_train.shape[0]:X_PCA.shape[0],:]"
   ]
  },
  {
   "cell_type": "markdown",
   "metadata": {},
   "source": [
    "## Question 3\n",
    "### A - Classification without Dimension Reduction"
   ]
  },
  {
   "cell_type": "markdown",
   "metadata": {},
   "source": [
    "### (i) Logistic Regression"
   ]
  },
  {
   "cell_type": "code",
   "execution_count": 21,
   "metadata": {},
   "outputs": [
    {
     "data": {
      "text/plain": [
       "LogisticRegression(C=10, class_weight=None, dual=False, fit_intercept=True,\n",
       "          intercept_scaling=1, max_iter=100, multi_class='warn',\n",
       "          n_jobs=None, penalty='l2', random_state=None, solver='liblinear',\n",
       "          tol=0.0001, verbose=0, warm_start=False)"
      ]
     },
     "execution_count": 21,
     "metadata": {},
     "output_type": "execute_result"
    }
   ],
   "source": [
    "# Library to Perform Logistic Regression\n",
    "from sklearn.linear_model import LogisticRegression\n",
    "\n",
    "# Create a Model\n",
    "lr = LogisticRegression(C=10, penalty='l2', solver='liblinear')\n",
    "\n",
    "# Fit the Model for given Data\n",
    "lr.fit(X_train,y_train.ravel())"
   ]
  },
  {
   "cell_type": "code",
   "execution_count": 22,
   "metadata": {},
   "outputs": [
    {
     "name": "stdout",
     "output_type": "stream",
     "text": [
      "Training Accuracy: 99.6125 %\n"
     ]
    }
   ],
   "source": [
    "# Calculate Training Accuracy\n",
    "pred = lr.predict(X_train)\n",
    "print('Training Accuracy: {} %'.format(np.mean(pred == y_train.ravel())*100))"
   ]
  },
  {
   "cell_type": "code",
   "execution_count": 23,
   "metadata": {},
   "outputs": [
    {
     "name": "stdout",
     "output_type": "stream",
     "text": [
      "Test Accuracy: 86.45 %\n"
     ]
    }
   ],
   "source": [
    "# Calculate Test Accuracy\n",
    "pred = lr.predict(X_test)\n",
    "print('Test Accuracy: {} %'.format(np.mean(pred == y_test.ravel())*100))"
   ]
  },
  {
   "cell_type": "markdown",
   "metadata": {},
   "source": [
    "### (ii) Support Vector Machine"
   ]
  },
  {
   "cell_type": "code",
   "execution_count": 24,
   "metadata": {},
   "outputs": [
    {
     "data": {
      "text/plain": [
       "LinearSVC(C=1.0, class_weight=None, dual=True, fit_intercept=True,\n",
       "     intercept_scaling=1, loss='squared_hinge', max_iter=1000,\n",
       "     multi_class='ovr', penalty='l2', random_state=None, tol=0.0001,\n",
       "     verbose=0)"
      ]
     },
     "execution_count": 24,
     "metadata": {},
     "output_type": "execute_result"
    }
   ],
   "source": [
    "# Library to Perform SVM\n",
    "from sklearn.svm import LinearSVC\n",
    "\n",
    "# Create a Model\n",
    "svm = LinearSVC()\n",
    "\n",
    "# Fit the Model for given Data\n",
    "svm.fit(X_train, y_train.ravel())"
   ]
  },
  {
   "cell_type": "code",
   "execution_count": 25,
   "metadata": {},
   "outputs": [
    {
     "name": "stdout",
     "output_type": "stream",
     "text": [
      "Training Accuracy: 96.5375 %\n"
     ]
    }
   ],
   "source": [
    "# Calculate Training Accuracy\n",
    "print(\"Training Accuracy:\",(svm.score(X_train,y_train.ravel()))*100,\"%\")"
   ]
  },
  {
   "cell_type": "code",
   "execution_count": 26,
   "metadata": {},
   "outputs": [
    {
     "name": "stdout",
     "output_type": "stream",
     "text": [
      "Test Accuracy: 87.2 %\n"
     ]
    }
   ],
   "source": [
    "# Calculate Test Accuracy\n",
    "print(\"Test Accuracy:\",(svm.score(X_test,y_test.ravel()))*100,\"%\")"
   ]
  },
  {
   "cell_type": "markdown",
   "metadata": {},
   "source": [
    "### B - Classification with Dimension Reduction"
   ]
  },
  {
   "cell_type": "markdown",
   "metadata": {},
   "source": [
    "### (i) Logistic Regression"
   ]
  },
  {
   "cell_type": "code",
   "execution_count": 27,
   "metadata": {},
   "outputs": [
    {
     "data": {
      "text/plain": [
       "LogisticRegression(C=10, class_weight=None, dual=False, fit_intercept=True,\n",
       "          intercept_scaling=1, max_iter=100, multi_class='warn',\n",
       "          n_jobs=None, penalty='l2', random_state=None, solver='liblinear',\n",
       "          tol=0.0001, verbose=0, warm_start=False)"
      ]
     },
     "execution_count": 27,
     "metadata": {},
     "output_type": "execute_result"
    }
   ],
   "source": [
    "# Create a Model\n",
    "lr_pca = LogisticRegression(C=10, penalty='l2', solver='liblinear')\n",
    "\n",
    "# Fit the Model for given Data\n",
    "lr_pca.fit(X_PCA_train,y_train.ravel())"
   ]
  },
  {
   "cell_type": "code",
   "execution_count": 28,
   "metadata": {},
   "outputs": [
    {
     "name": "stdout",
     "output_type": "stream",
     "text": [
      "Training Accuracy: 39.85 %\n"
     ]
    }
   ],
   "source": [
    "# Calculate Training Accuracy\n",
    "pred = lr_pca.predict(X_PCA_train)\n",
    "print('Training Accuracy: {} %'.format(np.mean(pred == y_train.ravel())*100))"
   ]
  },
  {
   "cell_type": "code",
   "execution_count": 29,
   "metadata": {},
   "outputs": [
    {
     "name": "stdout",
     "output_type": "stream",
     "text": [
      "Test Accuracy: 45.4 %\n"
     ]
    }
   ],
   "source": [
    "# Calculate Test Accuracy\n",
    "pred = lr_pca.predict(X_PCA_test)\n",
    "print('Test Accuracy: {} %'.format(np.mean(pred == y_test.ravel())*100))"
   ]
  },
  {
   "cell_type": "markdown",
   "metadata": {},
   "source": [
    "### (ii) Support Vector Machine"
   ]
  },
  {
   "cell_type": "code",
   "execution_count": 30,
   "metadata": {},
   "outputs": [
    {
     "data": {
      "text/plain": [
       "LinearSVC(C=1.0, class_weight=None, dual=True, fit_intercept=True,\n",
       "     intercept_scaling=1, loss='squared_hinge', max_iter=1000,\n",
       "     multi_class='ovr', penalty='l2', random_state=None, tol=0.0001,\n",
       "     verbose=0)"
      ]
     },
     "execution_count": 30,
     "metadata": {},
     "output_type": "execute_result"
    }
   ],
   "source": [
    "# Create a Model\n",
    "svm_pca = LinearSVC()\n",
    "\n",
    "# Fit the Model for given Data\n",
    "svm_pca.fit(X_PCA_train, y_train.ravel())"
   ]
  },
  {
   "cell_type": "code",
   "execution_count": 31,
   "metadata": {},
   "outputs": [
    {
     "name": "stdout",
     "output_type": "stream",
     "text": [
      "Training Accuracy: 36.475 %\n"
     ]
    }
   ],
   "source": [
    "# Calculate Training Accuracy\n",
    "print(\"Training Accuracy:\",(svm_pca.score(X_PCA_train,y_train.ravel()))*100,\"%\")"
   ]
  },
  {
   "cell_type": "code",
   "execution_count": 32,
   "metadata": {},
   "outputs": [
    {
     "name": "stdout",
     "output_type": "stream",
     "text": [
      "Test Accuracy: 42.95 %\n"
     ]
    }
   ],
   "source": [
    "# Calculate Test Accuracy\n",
    "print(\"Test Accuracy:\",(svm_pca.score(X_PCA_test,y_test.ravel()))*100,\"%\")"
   ]
  },
  {
   "cell_type": "markdown",
   "metadata": {},
   "source": [
    "## Question 4\n",
    "We have reduced the dimesion to 2, but this was an arbitrary choice."
   ]
  },
  {
   "cell_type": "markdown",
   "metadata": {
    "collapsed": true
   },
   "source": [
    "##### As we can see from the Result, Training and Test Accuracy has decreased drastically when we have reduced the dimentionality from \"784-D\" to \"2-D\" using PCA."
   ]
  },
  {
   "cell_type": "markdown",
   "metadata": {},
   "source": [
    "How can we select a better value for d?"
   ]
  },
  {
   "cell_type": "markdown",
   "metadata": {},
   "source": [
    "##### For selecting the better value for 'd' we need to consider the minimum number of Principal Componenets which gives better accuracy on both training and test data. Some Examples are shown below. "
   ]
  },
  {
   "cell_type": "markdown",
   "metadata": {},
   "source": [
    "### 1. For d = 70"
   ]
  },
  {
   "cell_type": "code",
   "execution_count": 33,
   "metadata": {},
   "outputs": [],
   "source": [
    "# Create a Model\n",
    "pca = PCA(n_components=70) # Reduce the dimension of data, keeping only the first 70 principal components (d=70)\n",
    "\n",
    "# Transform the Data\n",
    "X_PCA = pca.fit_transform(X_STD)"
   ]
  },
  {
   "cell_type": "code",
   "execution_count": 34,
   "metadata": {},
   "outputs": [],
   "source": [
    "# Split the Training and Test Data\n",
    "X_PCA_train = X_PCA[0:X_train.shape[0],:]\n",
    "X_PCA_test = X_PCA[X_train.shape[0]:X_PCA.shape[0],:]"
   ]
  },
  {
   "cell_type": "markdown",
   "metadata": {},
   "source": [
    "### (i) Logistic Regression"
   ]
  },
  {
   "cell_type": "code",
   "execution_count": 35,
   "metadata": {},
   "outputs": [
    {
     "data": {
      "text/plain": [
       "LogisticRegression(C=10, class_weight=None, dual=False, fit_intercept=True,\n",
       "          intercept_scaling=1, max_iter=100, multi_class='warn',\n",
       "          n_jobs=None, penalty='l2', random_state=None, solver='liblinear',\n",
       "          tol=0.0001, verbose=0, warm_start=False)"
      ]
     },
     "execution_count": 35,
     "metadata": {},
     "output_type": "execute_result"
    }
   ],
   "source": [
    "# Create a Model\n",
    "lr_pca = LogisticRegression(C=10, penalty='l2', solver='liblinear')\n",
    "\n",
    "# Fit the Model for given Data\n",
    "lr_pca.fit(X_PCA_train,y_train.ravel())"
   ]
  },
  {
   "cell_type": "code",
   "execution_count": 36,
   "metadata": {},
   "outputs": [
    {
     "name": "stdout",
     "output_type": "stream",
     "text": [
      "Training Accuracy: 91.125 %\n"
     ]
    }
   ],
   "source": [
    "# Calculate Training Accuracy\n",
    "pred = lr_pca.predict(X_PCA_train)\n",
    "print('Training Accuracy: {} %'.format(np.mean(pred == y_train.ravel())*100))"
   ]
  },
  {
   "cell_type": "code",
   "execution_count": 37,
   "metadata": {},
   "outputs": [
    {
     "name": "stdout",
     "output_type": "stream",
     "text": [
      "Test Accuracy: 91.25 %\n"
     ]
    }
   ],
   "source": [
    "# Calculate Test Accuracy\n",
    "pred = lr_pca.predict(X_PCA_test)\n",
    "print('Test Accuracy: {} %'.format(np.mean(pred == y_test.ravel())*100))"
   ]
  },
  {
   "cell_type": "markdown",
   "metadata": {},
   "source": [
    "### (ii) Support Vector Machine"
   ]
  },
  {
   "cell_type": "code",
   "execution_count": 38,
   "metadata": {},
   "outputs": [
    {
     "data": {
      "text/plain": [
       "LinearSVC(C=1.0, class_weight=None, dual=True, fit_intercept=True,\n",
       "     intercept_scaling=1, loss='squared_hinge', max_iter=1000,\n",
       "     multi_class='ovr', penalty='l2', random_state=None, tol=0.0001,\n",
       "     verbose=0)"
      ]
     },
     "execution_count": 38,
     "metadata": {},
     "output_type": "execute_result"
    }
   ],
   "source": [
    "# Create a Model\n",
    "svm_pca = LinearSVC()\n",
    "\n",
    "# Fit the Model for given Data\n",
    "svm_pca.fit(X_PCA_train, y_train.ravel())"
   ]
  },
  {
   "cell_type": "code",
   "execution_count": 39,
   "metadata": {},
   "outputs": [
    {
     "name": "stdout",
     "output_type": "stream",
     "text": [
      "Training Accuracy: 90.35 %\n"
     ]
    }
   ],
   "source": [
    "# Calculate Training Accuracy\n",
    "print(\"Training Accuracy:\",(svm_pca.score(X_PCA_train,y_train.ravel()))*100,\"%\")"
   ]
  },
  {
   "cell_type": "code",
   "execution_count": 40,
   "metadata": {},
   "outputs": [
    {
     "name": "stdout",
     "output_type": "stream",
     "text": [
      "Test Accuracy: 91.10000000000001 %\n"
     ]
    }
   ],
   "source": [
    "# Calculate Test Accuracy\n",
    "print(\"Test Accuracy:\",(svm_pca.score(X_PCA_test,y_test.ravel()))*100,\"%\")"
   ]
  },
  {
   "cell_type": "markdown",
   "metadata": {},
   "source": [
    "### 2. For d = 100"
   ]
  },
  {
   "cell_type": "code",
   "execution_count": 41,
   "metadata": {},
   "outputs": [],
   "source": [
    "# Create a Model\n",
    "pca = PCA(n_components=100) # Reduce the dimension of data, keeping only the first 100 principal components (d=100)\n",
    "\n",
    "# Transform the Data\n",
    "X_PCA = pca.fit_transform(X_STD)"
   ]
  },
  {
   "cell_type": "code",
   "execution_count": 42,
   "metadata": {},
   "outputs": [],
   "source": [
    "# Split the Training and Test Data\n",
    "X_PCA_train = X_PCA[0:X_train.shape[0],:]\n",
    "X_PCA_test = X_PCA[X_train.shape[0]:X_PCA.shape[0],:]"
   ]
  },
  {
   "cell_type": "markdown",
   "metadata": {},
   "source": [
    "### (i) Logistic Regression"
   ]
  },
  {
   "cell_type": "code",
   "execution_count": 43,
   "metadata": {},
   "outputs": [
    {
     "data": {
      "text/plain": [
       "LogisticRegression(C=10, class_weight=None, dual=False, fit_intercept=True,\n",
       "          intercept_scaling=1, max_iter=100, multi_class='warn',\n",
       "          n_jobs=None, penalty='l2', random_state=None, solver='liblinear',\n",
       "          tol=0.0001, verbose=0, warm_start=False)"
      ]
     },
     "execution_count": 43,
     "metadata": {},
     "output_type": "execute_result"
    }
   ],
   "source": [
    "# Create a Model\n",
    "lr_pca = LogisticRegression(C=10, penalty='l2', solver='liblinear')\n",
    "\n",
    "# Fit the Model for given Data\n",
    "lr_pca.fit(X_PCA_train,y_train.ravel())"
   ]
  },
  {
   "cell_type": "code",
   "execution_count": 44,
   "metadata": {},
   "outputs": [
    {
     "name": "stdout",
     "output_type": "stream",
     "text": [
      "Training Accuracy: 92.07499999999999 %\n"
     ]
    }
   ],
   "source": [
    "# Calculate Training Accuracy\n",
    "pred = lr_pca.predict(X_PCA_train)\n",
    "print('Training Accuracy: {} %'.format(np.mean(pred == y_train.ravel())*100))"
   ]
  },
  {
   "cell_type": "code",
   "execution_count": 45,
   "metadata": {},
   "outputs": [
    {
     "name": "stdout",
     "output_type": "stream",
     "text": [
      "Test Accuracy: 92.10000000000001 %\n"
     ]
    }
   ],
   "source": [
    "# Calculate Test Accuracy\n",
    "pred = lr_pca.predict(X_PCA_test)\n",
    "print('Test Accuracy: {} %'.format(np.mean(pred == y_test.ravel())*100))"
   ]
  },
  {
   "cell_type": "markdown",
   "metadata": {},
   "source": [
    "### (ii) Support Vector Machine"
   ]
  },
  {
   "cell_type": "code",
   "execution_count": 46,
   "metadata": {},
   "outputs": [
    {
     "data": {
      "text/plain": [
       "LinearSVC(C=1.0, class_weight=None, dual=True, fit_intercept=True,\n",
       "     intercept_scaling=1, loss='squared_hinge', max_iter=1000,\n",
       "     multi_class='ovr', penalty='l2', random_state=None, tol=0.0001,\n",
       "     verbose=0)"
      ]
     },
     "execution_count": 46,
     "metadata": {},
     "output_type": "execute_result"
    }
   ],
   "source": [
    "# Create a Model\n",
    "svm_pca = LinearSVC()\n",
    "\n",
    "# Fit the Model for given Data\n",
    "svm_pca.fit(X_PCA_train, y_train.ravel())"
   ]
  },
  {
   "cell_type": "code",
   "execution_count": 47,
   "metadata": {},
   "outputs": [
    {
     "name": "stdout",
     "output_type": "stream",
     "text": [
      "Training Accuracy: 91.2875 %\n"
     ]
    }
   ],
   "source": [
    "# Calculate Training Accuracy\n",
    "print(\"Training Accuracy:\",(svm_pca.score(X_PCA_train,y_train.ravel()))*100,\"%\")"
   ]
  },
  {
   "cell_type": "code",
   "execution_count": 48,
   "metadata": {},
   "outputs": [
    {
     "name": "stdout",
     "output_type": "stream",
     "text": [
      "Test Accuracy: 91.45 %\n"
     ]
    }
   ],
   "source": [
    "# Calculate Test Accuracy\n",
    "print(\"Test Accuracy:\",(svm_pca.score(X_PCA_test,y_test.ravel()))*100,\"%\")"
   ]
  },
  {
   "cell_type": "markdown",
   "metadata": {},
   "source": [
    "### 3. For d = 200"
   ]
  },
  {
   "cell_type": "code",
   "execution_count": 49,
   "metadata": {},
   "outputs": [],
   "source": [
    "# Create a Model\n",
    "pca = PCA(n_components=200) # Reduce the dimension of data, keeping only the first 200 principal components (d=200)\n",
    "\n",
    "# Transform the Data\n",
    "X_PCA = pca.fit_transform(X_STD)"
   ]
  },
  {
   "cell_type": "code",
   "execution_count": 50,
   "metadata": {},
   "outputs": [],
   "source": [
    "# Split the Training and Test Data\n",
    "X_PCA_train = X_PCA[0:X_train.shape[0],:]\n",
    "X_PCA_test = X_PCA[X_train.shape[0]:X_PCA.shape[0],:]"
   ]
  },
  {
   "cell_type": "markdown",
   "metadata": {},
   "source": [
    "### (i) Logistic Regression"
   ]
  },
  {
   "cell_type": "code",
   "execution_count": 51,
   "metadata": {},
   "outputs": [
    {
     "data": {
      "text/plain": [
       "LogisticRegression(C=10, class_weight=None, dual=False, fit_intercept=True,\n",
       "          intercept_scaling=1, max_iter=100, multi_class='warn',\n",
       "          n_jobs=None, penalty='l2', random_state=None, solver='liblinear',\n",
       "          tol=0.0001, verbose=0, warm_start=False)"
      ]
     },
     "execution_count": 51,
     "metadata": {},
     "output_type": "execute_result"
    }
   ],
   "source": [
    "# Create a Model\n",
    "lr_pca = LogisticRegression(C=10, penalty='l2', solver='liblinear')\n",
    "\n",
    "# Fit the Model for given Data\n",
    "lr_pca.fit(X_PCA_train,y_train.ravel())"
   ]
  },
  {
   "cell_type": "code",
   "execution_count": 52,
   "metadata": {},
   "outputs": [
    {
     "name": "stdout",
     "output_type": "stream",
     "text": [
      "Training Accuracy: 94.69999999999999 %\n"
     ]
    }
   ],
   "source": [
    "# Calculate Training Accuracy\n",
    "pred = lr_pca.predict(X_PCA_train)\n",
    "print('Training Accuracy: {} %'.format(np.mean(pred == y_train.ravel())*100))"
   ]
  },
  {
   "cell_type": "code",
   "execution_count": 53,
   "metadata": {},
   "outputs": [
    {
     "name": "stdout",
     "output_type": "stream",
     "text": [
      "Test Accuracy: 91.45 %\n"
     ]
    }
   ],
   "source": [
    "# Calculate Test Accuracy\n",
    "pred = lr_pca.predict(X_PCA_test)\n",
    "print('Test Accuracy: {} %'.format(np.mean(pred == y_test.ravel())*100))"
   ]
  },
  {
   "cell_type": "markdown",
   "metadata": {},
   "source": [
    "### (ii) Support Vector Machine"
   ]
  },
  {
   "cell_type": "code",
   "execution_count": 54,
   "metadata": {},
   "outputs": [
    {
     "data": {
      "text/plain": [
       "LinearSVC(C=1.0, class_weight=None, dual=True, fit_intercept=True,\n",
       "     intercept_scaling=1, loss='squared_hinge', max_iter=1000,\n",
       "     multi_class='ovr', penalty='l2', random_state=None, tol=0.0001,\n",
       "     verbose=0)"
      ]
     },
     "execution_count": 54,
     "metadata": {},
     "output_type": "execute_result"
    }
   ],
   "source": [
    "# Create a Model\n",
    "svm_pca = LinearSVC()\n",
    "\n",
    "# Fit the Model for given Data\n",
    "svm_pca.fit(X_PCA_train, y_train.ravel())"
   ]
  },
  {
   "cell_type": "code",
   "execution_count": 55,
   "metadata": {},
   "outputs": [
    {
     "name": "stdout",
     "output_type": "stream",
     "text": [
      "Training Accuracy: 93.6875 %\n"
     ]
    }
   ],
   "source": [
    "# Calculate Training Accuracy\n",
    "print(\"Training Accuracy:\",(svm_pca.score(X_PCA_train,y_train.ravel()))*100,\"%\")"
   ]
  },
  {
   "cell_type": "code",
   "execution_count": 56,
   "metadata": {},
   "outputs": [
    {
     "name": "stdout",
     "output_type": "stream",
     "text": [
      "Test Accuracy: 90.8 %\n"
     ]
    }
   ],
   "source": [
    "# Calculate Test Accuracy\n",
    "print(\"Test Accuracy:\",(svm_pca.score(X_PCA_test,y_test.ravel()))*100,\"%\")"
   ]
  },
  {
   "cell_type": "markdown",
   "metadata": {},
   "source": [
    "##### From the results it is obvious that just with 70 Principal Components we can get better Classification accuracy. The test accuracy is actually greater than the results obtained without Dimensionality reduction. "
   ]
  }
 ],
 "metadata": {
  "kernelspec": {
   "display_name": "Python 3",
   "language": "python",
   "name": "python3"
  },
  "language_info": {
   "codemirror_mode": {
    "name": "ipython",
    "version": 3
   },
   "file_extension": ".py",
   "mimetype": "text/x-python",
   "name": "python",
   "nbconvert_exporter": "python",
   "pygments_lexer": "ipython3",
   "version": "3.6.7"
  }
 },
 "nbformat": 4,
 "nbformat_minor": 2
}
